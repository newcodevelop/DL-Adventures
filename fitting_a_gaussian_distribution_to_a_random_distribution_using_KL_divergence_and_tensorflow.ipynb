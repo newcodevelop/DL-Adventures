{
  "nbformat": 4,
  "nbformat_minor": 0,
  "metadata": {
    "colab": {
      "name": "fitting a gaussian distribution to a random distribution using KL divergence and tensorflow.ipynb",
      "provenance": [],
      "collapsed_sections": []
    },
    "kernelspec": {
      "name": "python3",
      "display_name": "Python 3"
    }
  },
  "cells": [
    {
      "cell_type": "code",
      "metadata": {
        "id": "U5tABrsjwfkM",
        "colab_type": "code",
        "colab": {}
      },
      "source": [
        "import tensorflow as tf\n",
        "import numpy as np"
      ],
      "execution_count": 0,
      "outputs": []
    },
    {
      "cell_type": "code",
      "metadata": {
        "id": "4wlebWhixawT",
        "colab_type": "code",
        "colab": {}
      },
      "source": [
        "list_of_prob = [.01,0.08,0.1,0.21,0.35,0.15,0.05,0.05]\n",
        "#data points = 8\n",
        "data_points = []"
      ],
      "execution_count": 0,
      "outputs": []
    },
    {
      "cell_type": "code",
      "metadata": {
        "id": "c4y_noxNxa0l",
        "colab_type": "code",
        "colab": {}
      },
      "source": [
        "assert sum(list_of_prob)==1.0"
      ],
      "execution_count": 0,
      "outputs": []
    },
    {
      "cell_type": "code",
      "metadata": {
        "id": "M4ktCUgxxa3X",
        "colab_type": "code",
        "colab": {
          "base_uri": "https://localhost:8080/",
          "height": 265
        },
        "outputId": "0dbc553b-e2c4-4435-f472-86ad2b80d714"
      },
      "source": [
        "%matplotlib inline\n",
        "from matplotlib import pyplot as plt\n",
        "plt.bar([1,2,3,4,5,6,7,8],list_of_prob)\n",
        "plt.show()"
      ],
      "execution_count": 4,
      "outputs": [
        {
          "output_type": "display_data",
          "data": {
            "image/png": "[encoded data removed]",
            "text/plain": [
              "<Figure size 432x288 with 1 Axes>"
            ]
          },
          "metadata": {
            "tags": [],
            "needs_background": "light"
          }
        }
      ]
    },
    {
      "cell_type": "code",
      "metadata": {
        "id": "JTgYe--nxa7k",
        "colab_type": "code",
        "colab": {}
      },
      "source": [
        "def normal(x,mu,sigma):\n",
        "  return tf.multiply(tf.divide(1,(tf.multiply(tf.sqrt(tf.multiply(2.0,3.14)),sigma))),tf.exp(tf.multiply(-0.5,tf.square(tf.divide(tf.subtract(x,mu),sigma)))))"
      ],
      "execution_count": 0,
      "outputs": []
    },
    {
      "cell_type": "code",
      "metadata": {
        "id": "pQYq9EFgxa6V",
        "colab_type": "code",
        "colab": {}
      },
      "source": [
        "#gaussian_probs = [normal(i,400,30).numpy() for i in [x for x in range(1,800+1)]]\n",
        "number_list = np.asarray([x for x in range(1,800+1)],dtype = np.float32)\n",
        "gaussian_probs = normal(number_list,400.0,30.0)"
      ],
      "execution_count": 0,
      "outputs": []
    },
    {
      "cell_type": "code",
      "metadata": {
        "id": "ZrKevZdVxay8",
        "colab_type": "code",
        "colab": {
          "base_uri": "https://localhost:8080/",
          "height": 265
        },
        "outputId": "f09e9373-d41e-456e-a3a3-61b18e16117b"
      },
      "source": [
        "plt.plot(number_list,gaussian_probs)\n",
        "plt.show()"
      ],
      "execution_count": 7,
      "outputs": [
        {
          "output_type": "display_data",
          "data": {
            "image/png": "[encoded data removed]",
            "text/plain": [
              "<Figure size 432x288 with 1 Axes>"
            ]
          },
          "metadata": {
            "tags": [],
            "needs_background": "light"
          }
        }
      ]
    },
    {
      "cell_type": "code",
      "metadata": {
        "id": "6Ylz0E_gxaty",
        "colab_type": "code",
        "colab": {}
      },
      "source": [
        "points =[]\n",
        "k = 0\n",
        "for i in range(201):\n",
        "  points.append(1+k)\n",
        "  k = k+(7/200)\n",
        "\n",
        "points = np.asarray(points,np.float32)"
      ],
      "execution_count": 0,
      "outputs": []
    },
    {
      "cell_type": "code",
      "metadata": {
        "id": "LtxoIh8gyNKn",
        "colab_type": "code",
        "colab": {}
      },
      "source": [
        "#before training\n",
        "mu = 52.2\n",
        "sigma = 24.2"
      ],
      "execution_count": 0,
      "outputs": []
    },
    {
      "cell_type": "code",
      "metadata": {
        "id": "hqPkc3HeyNaj",
        "colab_type": "code",
        "colab": {}
      },
      "source": [
        "gaussian_probs = normal(points,mu,sigma)"
      ],
      "execution_count": 0,
      "outputs": []
    },
    {
      "cell_type": "code",
      "metadata": {
        "id": "nrgTEmRnyNdd",
        "colab_type": "code",
        "colab": {
          "base_uri": "https://localhost:8080/",
          "height": 265
        },
        "outputId": "01e2e959-ca44-437c-eab3-01c6c1af88fe"
      },
      "source": [
        "plt.plot(points,gaussian_probs)\n",
        "ax2 = plt.twinx()\n",
        "ax2.bar([1,2,3,4,5,6,7,8],list_of_prob)\n",
        "plt.show()"
      ],
      "execution_count": 21,
      "outputs": [
        {
          "output_type": "display_data",
          "data": {
            "image/png": "[encoded data removed]",
            "text/plain": [
              "<Figure size 432x288 with 2 Axes>"
            ]
          },
          "metadata": {
            "tags": [],
            "needs_background": "light"
          }
        }
      ]
    },
    {
      "cell_type": "code",
      "metadata": {
        "id": "debPj61WyNfx",
        "colab_type": "code",
        "colab": {
          "base_uri": "https://localhost:8080/",
          "height": 272
        },
        "outputId": "ec791e88-ac36-4eae-9d30-477c2d96aa1d"
      },
      "source": [
        "mu = tf.Variable(mu,trainable = True)\n",
        "sigma = tf.Variable(sigma,trainable = True)\n",
        "#print(W2)\n",
        "optimizer = tf.optimizers.Adam(learning_rate=0.1)\n",
        "\n",
        "epoch  = 1500\n",
        "\n",
        "#dataset = tf.data.Dataset.from_tensor_slices((train_images.astype(np.float32),\n",
        "#                                              labels.astype(np.float32))).batch(32)\n",
        "\n",
        "x = np.asarray([1,2,3,4,5,6,7,8],dtype = np.float32)\n",
        "y_true = [.01,0.08,0.1,0.21,0.35,0.15,0.05,0.05]\n",
        "for i in range(epoch):\n",
        "  #for (batch, (images, lab)) in enumerate(dataset):\n",
        "    with tf.GradientTape() as tape:\n",
        "      y_pred = tf.multiply(tf.divide(1,(tf.multiply(tf.sqrt(tf.multiply(2.0,3.14)),sigma))),tf.exp(tf.multiply(-0.5,tf.square(tf.divide(tf.subtract(x,mu),sigma)))))\n",
        "      k = tf.losses.KLDivergence()\n",
        "      loss_value = k(y_true,y_pred)\n",
        "\n",
        "      \n",
        "    grads = tape.gradient(loss_value,[mu,sigma])\n",
        "\n",
        "    optimizer.apply_gradients(zip(grads,[mu,sigma]))\n",
        "    if i%100==0:\n",
        "      print(\"loss on {} epoch is {}\".format(i,loss_value))\n",
        "    "
      ],
      "execution_count": 22,
      "outputs": [
        {
          "output_type": "stream",
          "text": [
            "loss on 0 epoch is 4.27473783493042\n",
            "loss on 100 epoch is 3.376173734664917\n",
            "loss on 200 epoch is 3.123945951461792\n",
            "loss on 300 epoch is 2.931814670562744\n",
            "loss on 400 epoch is 2.684305429458618\n",
            "loss on 500 epoch is 2.2157087326049805\n",
            "loss on 600 epoch is 0.08712564408779144\n",
            "loss on 700 epoch is 0.05657017603516579\n",
            "loss on 800 epoch is 0.056569285690784454\n",
            "loss on 900 epoch is 0.05656930431723595\n",
            "loss on 1000 epoch is 0.05656921863555908\n",
            "loss on 1100 epoch is 0.05656921863555908\n",
            "loss on 1200 epoch is 0.05656930431723595\n",
            "loss on 1300 epoch is 0.05656930431723595\n",
            "loss on 1400 epoch is 0.05656930431723595\n"
          ],
          "name": "stdout"
        }
      ]
    },
    {
      "cell_type": "code",
      "metadata": {
        "id": "fzmIUqyOzMV3",
        "colab_type": "code",
        "colab": {}
      },
      "source": [
        "#after training\n",
        "gaussian_probs = normal(points,mu,sigma)"
      ],
      "execution_count": 0,
      "outputs": []
    },
    {
      "cell_type": "code",
      "metadata": {
        "id": "r1_4jnwOzPt3",
        "colab_type": "code",
        "colab": {
          "base_uri": "https://localhost:8080/",
          "height": 265
        },
        "outputId": "7e3f0548-7cd3-471d-f48c-b0ba382f9b5a"
      },
      "source": [
        "plt.plot(points,gaussian_probs)\n",
        "ax2 = plt.twinx()\n",
        "ax2.bar([1,2,3,4,5,6,7,8],list_of_prob)\n",
        "plt.show()"
      ],
      "execution_count": 24,
      "outputs": [
        {
          "output_type": "display_data",
          "data": {
            "image/png": "[encoded data removed]",
            "text/plain": [
              "<Figure size 432x288 with 2 Axes>"
            ]
          },
          "metadata": {
            "tags": [],
            "needs_background": "light"
          }
        }
      ]
    },
    {
      "cell_type": "code",
      "metadata": {
        "id": "vT7UjSdg0VF1",
        "colab_type": "code",
        "colab": {}
      },
      "source": [
        ""
      ],
      "execution_count": 0,
      "outputs": []
    }
  ]
}