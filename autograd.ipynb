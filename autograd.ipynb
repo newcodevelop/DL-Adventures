{
  "nbformat": 4,
  "nbformat_minor": 0,
  "metadata": {
    "colab": {
      "name": "autograd.ipynb",
      "provenance": [],
      "collapsed_sections": []
    },
    "kernelspec": {
      "name": "python3",
      "display_name": "Python 3"
    }
  },
  "cells": [
    {
      "cell_type": "code",
      "metadata": {
        "id": "zJWbCl7QJIEr",
        "colab_type": "code",
        "colab": {}
      },
      "source": [
        "class Value:\n",
        "    \"\"\" stores a value and its gradient \"\"\"\n",
        "\n",
        "    def __init__(self, data, _children=(), _op=''):\n",
        "        self.data = data\n",
        "        self.grad = 0\n",
        "        # internal variables used for autograd graph construction\n",
        "        self._backward = lambda: None\n",
        "        self._prev = set(_children)\n",
        "        self._op = _op # the op that produced this node, for graphviz / debugging / etc\n",
        "\n",
        "    def __add__(self, other):\n",
        "        other = other if isinstance(other, Value) else Value(other)\n",
        "        out = Value(self.data + other.data, (self, other), '+')\n",
        "\n",
        "        def _backward():\n",
        "            self.grad += out.grad\n",
        "            other.grad += out.grad\n",
        "        out._backward = _backward\n",
        "\n",
        "        return out\n",
        "\n",
        "    def __mul__(self, other):\n",
        "        other = other if isinstance(other, Value) else Value(other)\n",
        "        out = Value(self.data * other.data, (self, other), '*')\n",
        "\n",
        "        def _backward():\n",
        "            self.grad += other.data * out.grad\n",
        "            other.grad += self.data * out.grad\n",
        "            \n",
        "            \n",
        "        out._backward = _backward\n",
        "\n",
        "        return out\n",
        "    \n",
        "    \n",
        "        \n",
        "        \n",
        "\n",
        "    def __pow__(self, other):\n",
        "        assert isinstance(other, (int, float)), \"only supporting int/float powers for now\"\n",
        "        out = Value(self.data**other, (self,), f'**{other}')\n",
        "\n",
        "        def _backward():\n",
        "            \n",
        "            \n",
        "            self.grad += (other * self.data**(other-1)) * out.grad\n",
        "        out._backward = _backward\n",
        "\n",
        "        return out\n",
        "\n",
        "    def relu(self):\n",
        "        out = Value(0 if self.data < 0 else self.data, (self,), 'ReLU')\n",
        "\n",
        "        def _backward():\n",
        "            self.grad += (out.data > 0) * out.grad\n",
        "        out._backward = _backward\n",
        "\n",
        "        return out\n",
        "    def matmul(self,other):\n",
        "        other = other if isinstance(other, Value) else Value(other)\n",
        "        out = Value(np.matmul(self.data , other.data), (self, other), 'matmul')\n",
        "        def _backward():\n",
        "            self.grad += np.dot(out.grad,other.data.T)\n",
        "            other.grad += np.dot(self.data.T,out.grad)\n",
        "            \n",
        "            \n",
        "        out._backward = _backward\n",
        "\n",
        "        return out\n",
        "    \n",
        "    def reduce_sum(self,axis = None):\n",
        "        out = Value(np.sum(self.data,axis = axis), (self,), 'REDUCE_SUM')\n",
        "        \n",
        "        def _backward():\n",
        "            output_shape = np.array(self.data.shape)\n",
        "            output_shape[axis] = 1\n",
        "            tile_scaling = self.data.shape // output_shape\n",
        "            grad = np.reshape(out.grad, output_shape)\n",
        "            self.grad += np.tile(grad, tile_scaling)\n",
        "            \n",
        "        out._backward = _backward\n",
        "\n",
        "        return out\n",
        "\n",
        "    def backward(self):\n",
        "\n",
        "        # topological order all of the children in the graph\n",
        "        topo = []\n",
        "        visited = set()\n",
        "        def build_topo(v):\n",
        "            if v not in visited:\n",
        "                visited.add(v)\n",
        "                for child in v._prev:\n",
        "                    build_topo(child)\n",
        "                topo.append(v)\n",
        "        build_topo(self)\n",
        "\n",
        "        # go one variable at a time and apply the chain rule to get its gradient\n",
        "        self.grad = 1\n",
        "        for v in reversed(topo):\n",
        "            #print(v)\n",
        "            v._backward()\n",
        "\n",
        "    def __neg__(self): # -self\n",
        "        return self * -1\n",
        "\n",
        "    def __radd__(self, other): # other + self\n",
        "        return self + other\n",
        "\n",
        "    def __sub__(self, other): # self - other\n",
        "        return self + (-other)\n",
        "\n",
        "    def __rsub__(self, other): # other - self\n",
        "        return other + (-self)\n",
        "\n",
        "    def __rmul__(self, other): # other * self\n",
        "        return self * other\n",
        "\n",
        "    def __truediv__(self, other): # self / other\n",
        "        return self * other**-1\n",
        "\n",
        "    def __rtruediv__(self, other): # other / self\n",
        "        return other * self**-1\n",
        "\n",
        "    def __repr__(self):\n",
        "        return f\"Value(data={self.data}, grad={self.grad})\""
      ],
      "execution_count": 0,
      "outputs": []
    },
    {
      "cell_type": "code",
      "metadata": {
        "id": "Wz9pnFLwKSbY",
        "colab_type": "code",
        "colab": {}
      },
      "source": [
        "import random\n",
        "import numpy as np"
      ],
      "execution_count": 0,
      "outputs": []
    },
    {
      "cell_type": "code",
      "metadata": {
        "id": "Ln8VedDVJV9J",
        "colab_type": "code",
        "colab": {}
      },
      "source": [
        "import random\n",
        "x_val = []\n",
        "#generating 100 random data points\n",
        "for i in range(100):\n",
        "    a = random.randint(1,10)\n",
        "    b = random.randint(1,10)\n",
        "    x_val.append((a,b))\n",
        "    \n",
        "x_vals = Value(np.array(x_val))"
      ],
      "execution_count": 0,
      "outputs": []
    },
    {
      "cell_type": "code",
      "metadata": {
        "id": "0v_M0XIZJbaf",
        "colab_type": "code",
        "colab": {
          "base_uri": "https://localhost:8080/",
          "height": 1000
        },
        "outputId": "4de6dd45-e3a9-48e3-b468-380f173903f3"
      },
      "source": [
        "x_vals"
      ],
      "execution_count": 4,
      "outputs": [
        {
          "output_type": "execute_result",
          "data": {
            "text/plain": [
              "Value(data=[[ 9  9]\n",
              " [ 6  5]\n",
              " [ 7 10]\n",
              " [ 5  4]\n",
              " [ 8 10]\n",
              " [ 5  3]\n",
              " [10  6]\n",
              " [ 7  5]\n",
              " [ 2  4]\n",
              " [10  7]\n",
              " [ 4  6]\n",
              " [ 3  1]\n",
              " [ 8  1]\n",
              " [ 8  6]\n",
              " [ 8  7]\n",
              " [10  4]\n",
              " [ 1  9]\n",
              " [ 3  2]\n",
              " [ 7  2]\n",
              " [ 9 10]\n",
              " [ 9  5]\n",
              " [ 4  3]\n",
              " [10  1]\n",
              " [ 5  5]\n",
              " [ 4  8]\n",
              " [ 2  8]\n",
              " [ 6  5]\n",
              " [ 2  4]\n",
              " [ 8 10]\n",
              " [ 1  8]\n",
              " [ 9  3]\n",
              " [ 7  2]\n",
              " [ 5  2]\n",
              " [ 3  3]\n",
              " [ 8 10]\n",
              " [ 1  1]\n",
              " [ 1  4]\n",
              " [ 5  8]\n",
              " [ 8  3]\n",
              " [ 8  3]\n",
              " [ 1  5]\n",
              " [ 9  2]\n",
              " [ 1  8]\n",
              " [ 4  4]\n",
              " [ 3 10]\n",
              " [ 9  7]\n",
              " [ 7  2]\n",
              " [ 8  1]\n",
              " [ 4  7]\n",
              " [ 3  7]\n",
              " [ 3 10]\n",
              " [ 7  8]\n",
              " [ 6  4]\n",
              " [ 5  8]\n",
              " [ 8  3]\n",
              " [ 7  1]\n",
              " [ 3  7]\n",
              " [ 1  9]\n",
              " [ 6  9]\n",
              " [ 2  9]\n",
              " [ 7  8]\n",
              " [ 6  9]\n",
              " [ 2  7]\n",
              " [ 9  1]\n",
              " [ 4  8]\n",
              " [ 5 10]\n",
              " [ 5  7]\n",
              " [ 5  6]\n",
              " [ 3  4]\n",
              " [ 4  9]\n",
              " [ 5  9]\n",
              " [ 9  9]\n",
              " [ 6  8]\n",
              " [ 7  9]\n",
              " [ 7  5]\n",
              " [ 8  4]\n",
              " [ 9 10]\n",
              " [ 3 10]\n",
              " [ 1 10]\n",
              " [ 3  2]\n",
              " [ 8  3]\n",
              " [ 5  2]\n",
              " [ 5  6]\n",
              " [10  7]\n",
              " [ 9  4]\n",
              " [10  2]\n",
              " [ 1  7]\n",
              " [ 7  9]\n",
              " [10  7]\n",
              " [10  7]\n",
              " [ 7  6]\n",
              " [ 6  8]\n",
              " [ 1  9]\n",
              " [ 1  5]\n",
              " [ 5  8]\n",
              " [ 5  1]\n",
              " [ 7  8]\n",
              " [ 8  9]\n",
              " [ 9  1]\n",
              " [10  7]], grad=0)"
            ]
          },
          "metadata": {
            "tags": []
          },
          "execution_count": 4
        }
      ]
    },
    {
      "cell_type": "code",
      "metadata": {
        "id": "gv5i4gwhJbdc",
        "colab_type": "code",
        "colab": {}
      },
      "source": [
        "y_true = [1.9*x1 + 2.2*x2 for x1,x2 in x_val]  # w1 and w2 are 1.9 and 2.2 respectively\n",
        "y_true = np.array([y_true])"
      ],
      "execution_count": 0,
      "outputs": []
    },
    {
      "cell_type": "code",
      "metadata": {
        "id": "DXijyOO6Jbgl",
        "colab_type": "code",
        "colab": {}
      },
      "source": [
        "y_true = Value(np.transpose(y_true))"
      ],
      "execution_count": 0,
      "outputs": []
    },
    {
      "cell_type": "code",
      "metadata": {
        "id": "sis8EXanJt3_",
        "colab_type": "code",
        "colab": {
          "base_uri": "https://localhost:8080/",
          "height": 1000
        },
        "outputId": "7d8951aa-7b64-4f3f-cd1d-bcf14be09707"
      },
      "source": [
        "y_true"
      ],
      "execution_count": 7,
      "outputs": [
        {
          "output_type": "execute_result",
          "data": {
            "text/plain": [
              "Value(data=[[36.9]\n",
              " [22.4]\n",
              " [35.3]\n",
              " [18.3]\n",
              " [37.2]\n",
              " [16.1]\n",
              " [32.2]\n",
              " [24.3]\n",
              " [12.6]\n",
              " [34.4]\n",
              " [20.8]\n",
              " [ 7.9]\n",
              " [17.4]\n",
              " [28.4]\n",
              " [30.6]\n",
              " [27.8]\n",
              " [21.7]\n",
              " [10.1]\n",
              " [17.7]\n",
              " [39.1]\n",
              " [28.1]\n",
              " [14.2]\n",
              " [21.2]\n",
              " [20.5]\n",
              " [25.2]\n",
              " [21.4]\n",
              " [22.4]\n",
              " [12.6]\n",
              " [37.2]\n",
              " [19.5]\n",
              " [23.7]\n",
              " [17.7]\n",
              " [13.9]\n",
              " [12.3]\n",
              " [37.2]\n",
              " [ 4.1]\n",
              " [10.7]\n",
              " [27.1]\n",
              " [21.8]\n",
              " [21.8]\n",
              " [12.9]\n",
              " [21.5]\n",
              " [19.5]\n",
              " [16.4]\n",
              " [27.7]\n",
              " [32.5]\n",
              " [17.7]\n",
              " [17.4]\n",
              " [23. ]\n",
              " [21.1]\n",
              " [27.7]\n",
              " [30.9]\n",
              " [20.2]\n",
              " [27.1]\n",
              " [21.8]\n",
              " [15.5]\n",
              " [21.1]\n",
              " [21.7]\n",
              " [31.2]\n",
              " [23.6]\n",
              " [30.9]\n",
              " [31.2]\n",
              " [19.2]\n",
              " [19.3]\n",
              " [25.2]\n",
              " [31.5]\n",
              " [24.9]\n",
              " [22.7]\n",
              " [14.5]\n",
              " [27.4]\n",
              " [29.3]\n",
              " [36.9]\n",
              " [29. ]\n",
              " [33.1]\n",
              " [24.3]\n",
              " [24. ]\n",
              " [39.1]\n",
              " [27.7]\n",
              " [23.9]\n",
              " [10.1]\n",
              " [21.8]\n",
              " [13.9]\n",
              " [22.7]\n",
              " [34.4]\n",
              " [25.9]\n",
              " [23.4]\n",
              " [17.3]\n",
              " [33.1]\n",
              " [34.4]\n",
              " [34.4]\n",
              " [26.5]\n",
              " [29. ]\n",
              " [21.7]\n",
              " [12.9]\n",
              " [27.1]\n",
              " [11.7]\n",
              " [30.9]\n",
              " [35. ]\n",
              " [19.3]\n",
              " [34.4]], grad=0)"
            ]
          },
          "metadata": {
            "tags": []
          },
          "execution_count": 7
        }
      ]
    },
    {
      "cell_type": "code",
      "metadata": {
        "id": "3k4Y8t5BJt9k",
        "colab_type": "code",
        "colab": {
          "base_uri": "https://localhost:8080/",
          "height": 51
        },
        "outputId": "766eb37e-acd4-4c02-f67f-56c49f7ead98"
      },
      "source": [
        "W = Value(np.array([[0.9],[0.2]])) # w1 and w2 initialized to 0.9 and 0.2 respectively\n",
        "W"
      ],
      "execution_count": 8,
      "outputs": [
        {
          "output_type": "execute_result",
          "data": {
            "text/plain": [
              "Value(data=[[0.9]\n",
              " [0.2]], grad=0)"
            ]
          },
          "metadata": {
            "tags": []
          },
          "execution_count": 8
        }
      ]
    },
    {
      "cell_type": "code",
      "metadata": {
        "id": "yRuf-ybrJuAQ",
        "colab_type": "code",
        "colab": {
          "base_uri": "https://localhost:8080/",
          "height": 187
        },
        "outputId": "6d2cfc31-7dc7-49e8-b009-78b9c5b1d146"
      },
      "source": [
        "epochs = 10\n",
        "#gradient descent over the whole dataset\n",
        "for epoch in range(epochs):\n",
        "    y_pred = x_vals.matmul(W)\n",
        "    z = (y_true-y_pred)\n",
        "    z_ = z**2\n",
        "    out = z_.reduce_sum(axis = 1)\n",
        "    fin = 0.01*out.reduce_sum()  #(0.01 = 1/100 = BATCH_SIZE)\n",
        "    fin.backward()\n",
        "    print(f'loss in epoch {epoch+1} is {fin}')\n",
        "    W.data = W.data- 0.01*W.grad\n",
        "    W.grad = 0"
      ],
      "execution_count": 9,
      "outputs": [
        {
          "output_type": "stream",
          "text": [
            "loss in epoch 1 is Value(data=344.91, grad=1)\n",
            "loss in epoch 2 is Value(data=87.32914902839995, grad=1)\n",
            "loss in epoch 3 is Value(data=22.826526386959987, grad=1)\n",
            "loss in epoch 4 is Value(data=6.433547998975098, grad=1)\n",
            "loss in epoch 5 is Value(data=2.10864601612934, grad=1)\n",
            "loss in epoch 6 is Value(data=0.8643795163737399, grad=1)\n",
            "loss in epoch 7 is Value(data=0.4417139197913734, grad=1)\n",
            "loss in epoch 8 is Value(data=0.26096539672614016, grad=1)\n",
            "loss in epoch 9 is Value(data=0.16557945665922355, grad=1)\n",
            "loss in epoch 10 is Value(data=0.10824826286236029, grad=1)\n"
          ],
          "name": "stdout"
        }
      ]
    },
    {
      "cell_type": "code",
      "metadata": {
        "id": "z_L9YK9iJuDh",
        "colab_type": "code",
        "colab": {
          "base_uri": "https://localhost:8080/",
          "height": 51
        },
        "outputId": "f1e616c9-b7f2-41e7-901d-11716cf68be4"
      },
      "source": [
        "W"
      ],
      "execution_count": 10,
      "outputs": [
        {
          "output_type": "execute_result",
          "data": {
            "text/plain": [
              "Value(data=[[1.96191472]\n",
              " [2.13733132]], grad=0)"
            ]
          },
          "metadata": {
            "tags": []
          },
          "execution_count": 10
        }
      ]
    },
    {
      "cell_type": "code",
      "metadata": {
        "id": "N-4dchW_MauL",
        "colab_type": "code",
        "colab": {}
      },
      "source": [
        ""
      ],
      "execution_count": 0,
      "outputs": []
    },
    {
      "cell_type": "code",
      "metadata": {
        "id": "vnfo7T_VKJ4F",
        "colab_type": "code",
        "colab": {
          "base_uri": "https://localhost:8080/",
          "height": 1000
        },
        "outputId": "39232805-44d2-468c-ec6d-e94bb9b8e55a"
      },
      "source": [
        "batch_size = 32\n",
        "steps = 100\n",
        "Wb = Value(np.array([[9.0],[22.2]]))# new initialized weights for gradient descent\n",
        "for step in range(steps):\n",
        "  ri = np.random.permutation(x_vals.data.shape[0])[:batch_size]\n",
        "  Xb, yb = Value(x_vals.data[ri]), Value(y_true.data[ri])\n",
        "  y_predW = Xb.matmul(Wb)\n",
        "  zb = (yb-y_predW)\n",
        "  z_b = zb**2\n",
        "  outb = z_b.reduce_sum(axis = 1)\n",
        "  finb = 0.32*outb.reduce_sum()  #(0.32 = 1/32 = BATCH_SIZE)\n",
        "  finb.backward()\n",
        "  print(f'loss in step {step+1} is {finb}')\n",
        "  Wb.data = Wb.data- 0.001*Wb.grad\n",
        "  Wb.grad = 0"
      ],
      "execution_count": 11,
      "outputs": [
        {
          "output_type": "stream",
          "text": [
            "loss in step 1 is Value(data=278226.4544, grad=1)\n",
            "loss in step 2 is Value(data=63772.18526760565, grad=1)\n",
            "loss in step 3 is Value(data=18953.449879588352, grad=1)\n",
            "loss in step 4 is Value(data=7152.0502941471, grad=1)\n",
            "loss in step 5 is Value(data=2834.9708044579033, grad=1)\n",
            "loss in step 6 is Value(data=1012.7818149786664, grad=1)\n",
            "loss in step 7 is Value(data=996.3690478488656, grad=1)\n",
            "loss in step 8 is Value(data=485.70346024457206, grad=1)\n",
            "loss in step 9 is Value(data=339.92461319700584, grad=1)\n",
            "loss in step 10 is Value(data=169.6036274967689, grad=1)\n",
            "loss in step 11 is Value(data=106.82733269226512, grad=1)\n",
            "loss in step 12 is Value(data=72.95774869535279, grad=1)\n",
            "loss in step 13 is Value(data=50.8637110315019, grad=1)\n",
            "loss in step 14 is Value(data=28.83550919938446, grad=1)\n",
            "loss in step 15 is Value(data=20.705095567942575, grad=1)\n",
            "loss in step 16 is Value(data=20.090436223797578, grad=1)\n",
            "loss in step 17 is Value(data=10.741854577055179, grad=1)\n",
            "loss in step 18 is Value(data=7.620772118045675, grad=1)\n",
            "loss in step 19 is Value(data=4.134059942706982, grad=1)\n",
            "loss in step 20 is Value(data=3.397298963610497, grad=1)\n",
            "loss in step 21 is Value(data=1.8578353783706558, grad=1)\n",
            "loss in step 22 is Value(data=1.3750421928759002, grad=1)\n",
            "loss in step 23 is Value(data=0.8072094223546973, grad=1)\n",
            "loss in step 24 is Value(data=0.4820393044587844, grad=1)\n",
            "loss in step 25 is Value(data=0.5354902029179559, grad=1)\n",
            "loss in step 26 is Value(data=0.3741240018873415, grad=1)\n",
            "loss in step 27 is Value(data=0.3701928948550988, grad=1)\n",
            "loss in step 28 is Value(data=0.1780882809509388, grad=1)\n",
            "loss in step 29 is Value(data=0.13137657942273476, grad=1)\n",
            "loss in step 30 is Value(data=0.09296697725578693, grad=1)\n",
            "loss in step 31 is Value(data=0.055403488208301814, grad=1)\n",
            "loss in step 32 is Value(data=0.028734634045225443, grad=1)\n",
            "loss in step 33 is Value(data=0.017422782264417992, grad=1)\n",
            "loss in step 34 is Value(data=0.010327137133614512, grad=1)\n",
            "loss in step 35 is Value(data=0.009675030604825023, grad=1)\n",
            "loss in step 36 is Value(data=0.012703086444668972, grad=1)\n",
            "loss in step 37 is Value(data=0.004893986284259229, grad=1)\n",
            "loss in step 38 is Value(data=0.004853120861296505, grad=1)\n",
            "loss in step 39 is Value(data=0.002794325636290839, grad=1)\n",
            "loss in step 40 is Value(data=0.0017802914593558342, grad=1)\n",
            "loss in step 41 is Value(data=0.0014774773397075126, grad=1)\n",
            "loss in step 42 is Value(data=0.001110145637468058, grad=1)\n",
            "loss in step 43 is Value(data=0.0007917534911880894, grad=1)\n",
            "loss in step 44 is Value(data=0.0003165454971621246, grad=1)\n",
            "loss in step 45 is Value(data=0.00032056955641855916, grad=1)\n",
            "loss in step 46 is Value(data=0.00022564798326558437, grad=1)\n",
            "loss in step 47 is Value(data=0.0001310889035179122, grad=1)\n",
            "loss in step 48 is Value(data=4.782957480825664e-05, grad=1)\n",
            "loss in step 49 is Value(data=5.4236588619164844e-05, grad=1)\n",
            "loss in step 50 is Value(data=3.1852712692976865e-05, grad=1)\n",
            "loss in step 51 is Value(data=2.056384338471273e-05, grad=1)\n",
            "loss in step 52 is Value(data=1.6618084161787144e-05, grad=1)\n",
            "loss in step 53 is Value(data=1.1759370319380882e-05, grad=1)\n",
            "loss in step 54 is Value(data=8.421248877441101e-06, grad=1)\n",
            "loss in step 55 is Value(data=3.549704052803559e-06, grad=1)\n",
            "loss in step 56 is Value(data=2.1440481180464047e-06, grad=1)\n",
            "loss in step 57 is Value(data=1.730144664841051e-06, grad=1)\n",
            "loss in step 58 is Value(data=1.0346309937959546e-06, grad=1)\n",
            "loss in step 59 is Value(data=5.331739804607179e-07, grad=1)\n",
            "loss in step 60 is Value(data=2.5018200242280665e-07, grad=1)\n",
            "loss in step 61 is Value(data=2.751366894005674e-07, grad=1)\n",
            "loss in step 62 is Value(data=1.7290202607954183e-07, grad=1)\n",
            "loss in step 63 is Value(data=1.6022938102566905e-07, grad=1)\n",
            "loss in step 64 is Value(data=7.523474147304643e-08, grad=1)\n",
            "loss in step 65 is Value(data=6.283241986069748e-08, grad=1)\n",
            "loss in step 66 is Value(data=3.2527775084988304e-08, grad=1)\n",
            "loss in step 67 is Value(data=2.2378867139422323e-08, grad=1)\n",
            "loss in step 68 is Value(data=1.686881851653938e-08, grad=1)\n",
            "loss in step 69 is Value(data=9.47249056448606e-09, grad=1)\n",
            "loss in step 70 is Value(data=4.829432015525313e-09, grad=1)\n",
            "loss in step 71 is Value(data=4.549604858753245e-09, grad=1)\n",
            "loss in step 72 is Value(data=2.4741974734110183e-09, grad=1)\n",
            "loss in step 73 is Value(data=1.0345985695838303e-09, grad=1)\n",
            "loss in step 74 is Value(data=9.28270611862432e-10, grad=1)\n",
            "loss in step 75 is Value(data=5.604170184019404e-10, grad=1)\n",
            "loss in step 76 is Value(data=2.530475884316824e-10, grad=1)\n",
            "loss in step 77 is Value(data=2.857530987608519e-10, grad=1)\n",
            "loss in step 78 is Value(data=1.345742920657383e-10, grad=1)\n",
            "loss in step 79 is Value(data=1.3970534969622993e-10, grad=1)\n",
            "loss in step 80 is Value(data=9.777199031217992e-11, grad=1)\n",
            "loss in step 81 is Value(data=4.581023201361868e-11, grad=1)\n",
            "loss in step 82 is Value(data=3.917380510533148e-11, grad=1)\n",
            "loss in step 83 is Value(data=2.146215151005001e-11, grad=1)\n",
            "loss in step 84 is Value(data=1.163227963026969e-11, grad=1)\n",
            "loss in step 85 is Value(data=9.823293381574243e-12, grad=1)\n",
            "loss in step 86 is Value(data=5.952017100209013e-12, grad=1)\n",
            "loss in step 87 is Value(data=8.398824934324376e-12, grad=1)\n",
            "loss in step 88 is Value(data=4.53305392191236e-12, grad=1)\n",
            "loss in step 89 is Value(data=2.430519763750931e-12, grad=1)\n",
            "loss in step 90 is Value(data=1.4994251552825747e-12, grad=1)\n",
            "loss in step 91 is Value(data=1.018614628683266e-12, grad=1)\n",
            "loss in step 92 is Value(data=4.56290439813806e-13, grad=1)\n",
            "loss in step 93 is Value(data=4.2355502974187796e-13, grad=1)\n",
            "loss in step 94 is Value(data=2.2540421745536045e-13, grad=1)\n",
            "loss in step 95 is Value(data=2.257957919333346e-13, grad=1)\n",
            "loss in step 96 is Value(data=1.8995690947153783e-13, grad=1)\n",
            "loss in step 97 is Value(data=7.967006887371817e-14, grad=1)\n",
            "loss in step 98 is Value(data=7.130564920407618e-14, grad=1)\n",
            "loss in step 99 is Value(data=7.505241795336955e-14, grad=1)\n",
            "loss in step 100 is Value(data=2.934313076556098e-14, grad=1)\n"
          ],
          "name": "stdout"
        }
      ]
    },
    {
      "cell_type": "code",
      "metadata": {
        "id": "TlZoRhCYKKPQ",
        "colab_type": "code",
        "colab": {
          "base_uri": "https://localhost:8080/",
          "height": 51
        },
        "outputId": "d82858b8-24bf-44a8-9c2e-ca2902b38e1b"
      },
      "source": [
        "Wb"
      ],
      "execution_count": 12,
      "outputs": [
        {
          "output_type": "execute_result",
          "data": {
            "text/plain": [
              "Value(data=[[1.89999999]\n",
              " [2.20000001]], grad=0)"
            ]
          },
          "metadata": {
            "tags": []
          },
          "execution_count": 12
        }
      ]
    },
    {
      "cell_type": "code",
      "metadata": {
        "id": "bLXAlTAyKKSK",
        "colab_type": "code",
        "colab": {}
      },
      "source": [
        ""
      ],
      "execution_count": 0,
      "outputs": []
    },
    {
      "cell_type": "code",
      "metadata": {
        "id": "GldzmiQOKKWx",
        "colab_type": "code",
        "colab": {}
      },
      "source": [
        ""
      ],
      "execution_count": 0,
      "outputs": []
    },
    {
      "cell_type": "code",
      "metadata": {
        "id": "hkImVlk2KKVc",
        "colab_type": "code",
        "colab": {}
      },
      "source": [
        ""
      ],
      "execution_count": 0,
      "outputs": []
    }
  ]
}