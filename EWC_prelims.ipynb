{
 "cells": [
  {
   "cell_type": "markdown",
   "metadata": {
    "colab_type": "text",
    "id": "bISPKj6cNFbf"
   },
   "source": [
    "# Fine Tuning Transformer for MultiLabel Text Classification"
   ]
  },
  {
   "cell_type": "code",
   "execution_count": null,
   "metadata": {
    "colab": {
     "base_uri": "https://localhost:8080/",
     "height": 360
    },
    "colab_type": "code",
    "id": "WD_vnyLXZQzD",
    "outputId": "2d4e3c79-5cb9-4812-cb00-6ea1163bf219"
   },
   "outputs": [],
   "source": [
    "# Installing the transformers library and additional libraries if looking process \n",
    "\n",
    "!pip install transformers==3.0.2\n",
    "\n",
    "# Code for TPU packages install\n",
    "# !curl -q https://raw.githubusercontent.com/pytorch/xla/master/contrib/scripts/env-setup.py -o pytorch-xla-env-setup.py\n",
    "# !python pytorch-xla-env-setup.py --apt-packages libomp5 libopenblas-dev"
   ]
  },
  {
   "cell_type": "code",
   "execution_count": null,
   "metadata": {
    "colab": {},
    "colab_type": "code",
    "id": "pzM1_ykHaFur"
   },
   "outputs": [],
   "source": [
    "# Importing stock ml libraries\n",
    "import numpy as np\n",
    "import pandas as pd\n",
    "from sklearn import metrics\n",
    "import transformers\n",
    "import torch\n",
    "from torch.utils.data import Dataset, DataLoader, RandomSampler, SequentialSampler\n",
    "from transformers import BertTokenizer, BertModel, BertConfig\n",
    "\n",
    "# Preparing for TPU usage\n",
    "# import torch_xla\n",
    "# import torch_xla.core.xla_model as xm\n",
    "# device = xm.xla_device()"
   ]
  },
  {
   "cell_type": "code",
   "execution_count": null,
   "metadata": {
    "colab": {
     "base_uri": "https://localhost:8080/",
     "height": 34
    },
    "colab_type": "code",
    "id": "NLxxwd1scQNv",
    "outputId": "0afb3060-718a-4e3d-b59b-52bdc0fc975c"
   },
   "outputs": [],
   "source": [
    "# # Setting up the device for GPU usage\n",
    "\n",
    "from torch import cuda\n",
    "device = 'cuda' if cuda.is_available() else 'cpu'\n",
    "print(device)"
   ]
  },
  {
   "cell_type": "code",
   "execution_count": null,
   "metadata": {
    "colab": {
     "base_uri": "https://localhost:8080/",
     "height": 357
    },
    "colab_type": "code",
    "id": "kSPrk240CUVC",
    "outputId": "5b3729e8-77b1-45c8-f84f-f19e8f14666e"
   },
   "outputs": [],
   "source": [
    "!nvidia-smi"
   ]
  },
  {
   "cell_type": "markdown",
   "metadata": {
    "colab_type": "text",
    "id": "03-P-LqPNFb-"
   },
   "source": [
    "<a id='section02'></a>\n",
    "### Importing and Pre-Processing the domain data\n",
    "\n",
    "We will be working with the data and preparing for fine tuning purposes. \n",
    "*Assuming that the `train.csv` is already downloaded, unzipped and saved in your `data` folder*\n",
    "\n",
    "* Import the file in a dataframe and give it the headers as per the documentation.\n",
    "* Taking the values of all the categories and coverting it into a list.\n",
    "* The list is appened as a new column and other columns are removed"
   ]
  },
  {
   "cell_type": "code",
   "execution_count": null,
   "metadata": {
    "colab": {},
    "colab_type": "code",
    "id": "mZ7lTlkyaG7u"
   },
   "outputs": [],
   "source": [
    "df = pd.read_csv('https://raw.githubusercontent.com/DLNoobs/snli/master/snli_1.0_test.csv')\n",
    "from sklearn.model_selection import train_test_split\n",
    "\n",
    "train, test = train_test_split(df, test_size=0.1,random_state = 42,shuffle = True)\n"
   ]
  },
  {
   "cell_type": "code",
   "execution_count": null,
   "metadata": {
    "colab": {
     "base_uri": "https://localhost:8080/",
     "height": 1000
    },
    "colab_type": "code",
    "id": "bIdWDg6A63P-",
    "outputId": "96a06307-82a5-488d-81bc-36238ff5f12b"
   },
   "outputs": [],
   "source": [
    "train.head(10)"
   ]
  },
  {
   "cell_type": "code",
   "execution_count": null,
   "metadata": {
    "colab": {},
    "colab_type": "code",
    "id": "u6w5JM1Y7vA2"
   },
   "outputs": [],
   "source": [
    "def get_data_eng_eng(a):\n",
    "  b = list(a['gold_label'])\n",
    "  lab = []\n",
    "  \n",
    "  for i in b:\n",
    "    if i=='contradiction':\n",
    "        lab.append(0)\n",
    "    elif i=='neutral':\n",
    "        lab.append(1)\n",
    "    elif i== 'entailment':\n",
    "        lab.append(2)\n",
    "    else:\n",
    "        lab.append(3)\n",
    "  sentence_1 = list(a['sentence1'])\n",
    "  sentence_2 = list(a['sentence2'])\n",
    "  raw_data_train = {'sentence1_eng': sentence_1, \n",
    "              'sentence2_eng': sentence_2,\n",
    "          'label': lab}\n",
    "  df = pd.DataFrame(raw_data_train, columns = ['sentence1_eng','sentence2_eng','label'])\n",
    "  return df"
   ]
  },
  {
   "cell_type": "code",
   "execution_count": null,
   "metadata": {
    "colab": {},
    "colab_type": "code",
    "id": "i1E5hNzQ7u-P"
   },
   "outputs": [],
   "source": [
    "\n",
    "train_eng_eng = get_data_eng_eng(train)\n",
    "test_eng_eng = get_data_eng_eng(test)"
   ]
  },
  {
   "cell_type": "code",
   "execution_count": null,
   "metadata": {
    "colab": {},
    "colab_type": "code",
    "id": "ikfbFlNHgi8T"
   },
   "outputs": [],
   "source": [
    "# Sections of config\n",
    "\n",
    "# Defining some key variables that will be used later on in the training\n",
    "MAX_LEN = 128\n",
    "TRAIN_BATCH_SIZE = 28\n",
    "VALID_BATCH_SIZE = 28\n",
    "EPOCHS = 1\n",
    "LEARNING_RATE = 1e-05\n",
    "tokenizer = BertTokenizer.from_pretrained('bert-base-uncased')"
   ]
  },
  {
   "cell_type": "code",
   "execution_count": null,
   "metadata": {
    "colab": {
     "base_uri": "https://localhost:8080/",
     "height": 54
    },
    "colab_type": "code",
    "id": "CwhKafi3O0CD",
    "outputId": "48b4c3d1-2eca-49da-e50b-a715fb22d00c"
   },
   "outputs": [],
   "source": [
    "i = tokenizer.encode_plus('I have a book', 'Not so good book',add_special_tokens=True,\n",
    "            max_length=12,\n",
    "            pad_to_max_length=True,\n",
    "            return_token_type_ids=True)"
   ]
  },
  {
   "cell_type": "code",
   "execution_count": null,
   "metadata": {
    "colab": {
     "base_uri": "https://localhost:8080/",
     "height": 54
    },
    "colab_type": "code",
    "id": "C3UhEwNcSzoB",
    "outputId": "f0b20805-fc7d-4205-bb46-b05a6aa6106c"
   },
   "outputs": [],
   "source": [
    "i"
   ]
  },
  {
   "cell_type": "code",
   "execution_count": null,
   "metadata": {
    "colab": {},
    "colab_type": "code",
    "id": "zU78jGr1SW2h"
   },
   "outputs": [],
   "source": [
    "j = i['input_ids']"
   ]
  },
  {
   "cell_type": "code",
   "execution_count": null,
   "metadata": {
    "colab": {
     "base_uri": "https://localhost:8080/",
     "height": 221
    },
    "colab_type": "code",
    "id": "-Kap9P-9RS3L",
    "outputId": "facbf3ae-b9fe-43b5-effc-1368d5ad89ab"
   },
   "outputs": [],
   "source": [
    "tokenizer.convert_ids_to_tokens(j)"
   ]
  },
  {
   "cell_type": "code",
   "execution_count": null,
   "metadata": {
    "colab": {
     "base_uri": "https://localhost:8080/",
     "height": 54
    },
    "colab_type": "code",
    "id": "8HgXDw9s4KWO",
    "outputId": "9693e62b-860e-4e82-b427-bbe9cc666578"
   },
   "outputs": [],
   "source": [
    "i = tokenizer.encode_plus('I have a book',None,add_special_tokens=True,\n",
    "            max_length=12,\n",
    "            pad_to_max_length=True,\n",
    "            return_token_type_ids=True)"
   ]
  },
  {
   "cell_type": "code",
   "execution_count": null,
   "metadata": {
    "colab": {
     "base_uri": "https://localhost:8080/",
     "height": 221
    },
    "colab_type": "code",
    "id": "XO6yMJJO4Kc1",
    "outputId": "2bb00521-dcd0-4062-ff38-9ab4dacee5d7"
   },
   "outputs": [],
   "source": [
    "tokenizer.convert_ids_to_tokens(i['input_ids'])"
   ]
  },
  {
   "cell_type": "code",
   "execution_count": null,
   "metadata": {
    "colab": {},
    "colab_type": "code",
    "id": "oFOylAXqiNYK"
   },
   "outputs": [],
   "source": [
    "class CustomDataset(Dataset):\n",
    "\n",
    "    def __init__(self, dataframe, tokenizer, max_len):\n",
    "        self.tokenizer = tokenizer\n",
    "        self.data = dataframe\n",
    "        self.sentence1 = dataframe.sentence1_eng\n",
    "        self.sentence2 = dataframe.sentence2_eng\n",
    "        self.targets = self.data.label\n",
    "        self.max_len = max_len\n",
    "\n",
    "    def __len__(self):\n",
    "        return len(self.sentence1)\n",
    "\n",
    "    def __getitem__(self, index):\n",
    "        sentence1 = str(self.sentence1[index])\n",
    "        sentence1 = \" \".join(sentence1.split())\n",
    "        sentence2 = str(self.sentence2[index])\n",
    "        sentence2 = \" \".join(sentence2.split())\n",
    "\n",
    "        inputs = self.tokenizer.encode_plus(\n",
    "            sentence1,\n",
    "            sentence2,\n",
    "            add_special_tokens=True,\n",
    "            max_length=self.max_len,\n",
    "            pad_to_max_length=True,\n",
    "            return_token_type_ids=True\n",
    "        )\n",
    "        ids = inputs['input_ids']\n",
    "        mask = inputs['attention_mask']\n",
    "        token_type_ids = inputs[\"token_type_ids\"]\n",
    "\n",
    "\n",
    "        return {\n",
    "            'ids': torch.tensor(ids, dtype=torch.long),\n",
    "            'mask': torch.tensor(mask, dtype=torch.long),\n",
    "            'token_type_ids': torch.tensor(token_type_ids, dtype=torch.long),\n",
    "            'targets': torch.tensor(self.targets[index], dtype=torch.long)\n",
    "        }"
   ]
  },
  {
   "cell_type": "code",
   "execution_count": null,
   "metadata": {
    "colab": {},
    "colab_type": "code",
    "id": "PkDGqarcPowL"
   },
   "outputs": [],
   "source": [
    "# Creating the dataset and dataloader for the neural network\n",
    "\n",
    "\n",
    "\n",
    "training_set = CustomDataset(train_eng_eng, tokenizer, MAX_LEN)\n",
    "testing_set = CustomDataset(test_eng_eng, tokenizer, MAX_LEN)"
   ]
  },
  {
   "cell_type": "code",
   "execution_count": null,
   "metadata": {
    "colab": {},
    "colab_type": "code",
    "id": "I6_r038d_9D_"
   },
   "outputs": [],
   "source": []
  },
  {
   "cell_type": "code",
   "execution_count": null,
   "metadata": {
    "colab": {},
    "colab_type": "code",
    "id": "vLpilV73QrXJ"
   },
   "outputs": [],
   "source": [
    "train_params = {'batch_size': TRAIN_BATCH_SIZE,\n",
    "                'shuffle': True,\n",
    "                'num_workers': 0\n",
    "                }\n",
    "\n",
    "test_params = {'batch_size': VALID_BATCH_SIZE,\n",
    "                'shuffle': True,\n",
    "                'num_workers': 0\n",
    "                }\n",
    "\n",
    "training_loader = DataLoader(training_set, **train_params)\n",
    "testing_loader = DataLoader(testing_set, **test_params)"
   ]
  },
  {
   "cell_type": "code",
   "execution_count": null,
   "metadata": {
    "colab": {
     "base_uri": "https://localhost:8080/",
     "height": 1000
    },
    "colab_type": "code",
    "id": "DegHNyIEQxB2",
    "outputId": "9d64de16-9246-49ca-f75f-728fc3554d5a"
   },
   "outputs": [],
   "source": [
    "# Creating the customized model, by adding a drop out and a dense layer on top of distil bert to get the final output for the model. \n",
    "\n",
    "class BERTClass(torch.nn.Module):\n",
    "    def __init__(self,nout,mod_name=None):\n",
    "        super(BERTClass, self).__init__()\n",
    "        self.l1 = transformers.BertModel.from_pretrained('bert-base-uncased') if mod_name==None else transformers.BertModel.from_pretrained(mod_name)\n",
    "        self.l2 = torch.nn.Dropout(0.1)\n",
    "        self.l3 = torch.nn.Linear(768, nout)\n",
    "    \n",
    "    def forward(self, ids, mask, token_type_ids):\n",
    "        _, output_1= self.l1(ids, attention_mask = mask, token_type_ids = token_type_ids)\n",
    "        output_2 = self.l2(output_1)\n",
    "        output = self.l3(output_2)\n",
    "        return output\n",
    "\n",
    "model = BERTClass(4)\n",
    "model.to(device)"
   ]
  },
  {
   "cell_type": "code",
   "execution_count": null,
   "metadata": {
    "colab": {
     "base_uri": "https://localhost:8080/",
     "height": 35
    },
    "colab_type": "code",
    "id": "yhud20rAB-Jb",
    "outputId": "76b8b1de-dc0e-4875-e950-bd33b6149781"
   },
   "outputs": [],
   "source": [
    "\"\"\"\n",
    "all_bert_params = model.l1.state_dict()\n",
    "for param in all_bert_params:\n",
    "  print(all_bert_params[param])\n",
    "\"\"\""
   ]
  },
  {
   "cell_type": "code",
   "execution_count": null,
   "metadata": {
    "colab": {},
    "colab_type": "code",
    "id": "zfCZFiHNnlRq"
   },
   "outputs": [],
   "source": [
    "def save_and_get(model,PATH):\n",
    "  model.l1.save_pretrained(PATH)\n",
    "  return PATH"
   ]
  },
  {
   "cell_type": "code",
   "execution_count": null,
   "metadata": {
    "colab": {},
    "colab_type": "code",
    "id": "mtr59jBYBsy6"
   },
   "outputs": [],
   "source": [
    "def get_linear_weight(model_from,model_to):\n",
    "  with torch.no_grad():\n",
    "    model_to.l3.weight = model_from.l3.weight\n",
    "    model_to.l3.bias = model_from.l3.bias\n",
    "\n"
   ]
  },
  {
   "cell_type": "code",
   "execution_count": null,
   "metadata": {
    "colab": {
     "base_uri": "https://localhost:8080/",
     "height": 357
    },
    "colab_type": "code",
    "id": "9zovtC6epUML",
    "outputId": "ec19a849-4472-4b77-882c-3ee6f6cf7252"
   },
   "outputs": [],
   "source": [
    "!nvidia-smi"
   ]
  },
  {
   "cell_type": "code",
   "execution_count": null,
   "metadata": {
    "colab": {
     "base_uri": "https://localhost:8080/",
     "height": 35
    },
    "colab_type": "code",
    "id": "VLPezS2sh1Vd",
    "outputId": "71460794-5885-4570-83d6-8e9bedb4f319"
   },
   "outputs": [],
   "source": [
    "'''\n",
    "del params['l3.weight']\n",
    "del params['l3.bias']\n",
    "'''"
   ]
  },
  {
   "cell_type": "code",
   "execution_count": null,
   "metadata": {
    "colab": {
     "base_uri": "https://localhost:8080/",
     "height": 35
    },
    "colab_type": "code",
    "id": "efLiVcRcCDyJ",
    "outputId": "5fb02638-f2c4-45b6-84d3-0c711ef8dadc"
   },
   "outputs": [],
   "source": [
    "\"\"\"\n",
    "model = BERTClass(save_and_get(model,'trained_bert1'))\n",
    "model.to(device)\n",
    "\"\"\""
   ]
  },
  {
   "cell_type": "code",
   "execution_count": null,
   "metadata": {
    "colab": {
     "base_uri": "https://localhost:8080/",
     "height": 35
    },
    "colab_type": "code",
    "id": "D5wU8WkPqCmw",
    "outputId": "467c1b1f-6b7b-402a-d0a0-e61dd9b54550"
   },
   "outputs": [],
   "source": [
    "\n",
    "\"\"\"\n",
    "all_bert_params = model.l1.state_dict()\n",
    "for param in all_bert_params:\n",
    "  print(all_bert_params[param])\n",
    "\"\"\""
   ]
  },
  {
   "cell_type": "code",
   "execution_count": null,
   "metadata": {
    "colab": {},
    "colab_type": "code",
    "id": "7KnNeQx6SI78"
   },
   "outputs": [],
   "source": [
    "#from torch.nn import functional as F\n",
    "def loss_fn(outputs, targets,ewc = False,star_vars = None,precision_matrices = None):\n",
    "    if ewc:\n",
    "      loss = torch.nn.functional.cross_entropy(outputs, targets)\n",
    "      for n, p in model.named_parameters():\n",
    "          if n!='l3.weight' or n!= 'l3.bias':\n",
    "            _loss = precision_matrices[n] * (p - star_vars[n]) ** 2\n",
    "            loss += _loss.sum()\n",
    "      return loss\n",
    "    else:\n",
    "      return torch.nn.functional.cross_entropy(outputs, targets)\n",
    "    "
   ]
  },
  {
   "cell_type": "code",
   "execution_count": null,
   "metadata": {
    "colab": {},
    "colab_type": "code",
    "id": "gUD8j0c7WsA-"
   },
   "outputs": [],
   "source": [
    "def get_optimizer(model):\n",
    "  optimizer = torch.optim.Adam(params =  model.parameters(), lr=LEARNING_RATE)\n",
    "  return optimizer"
   ]
  },
  {
   "cell_type": "markdown",
   "metadata": {
    "colab_type": "text",
    "id": "yV1uZ2pDNFdB"
   },
   "source": [
    "<a id='section05'></a>\n",
    "### Fine Tuning the Model\n",
    "\n",
    "After all the effort of loading and preparing the data and datasets, creating the model and defining its loss and optimizer. This is probably the easier steps in the process. \n",
    "\n",
    "Here we define a training function that trains the model on the training dataset created above, specified number of times (EPOCH), An epoch defines how many times the complete data will be passed through the network. \n",
    "\n",
    "Following events happen in this function to fine tune the neural network:\n",
    "- The dataloader passes data to the model based on the batch size. \n",
    "- Subsequent output from the model and the actual category are compared to calculate the loss. \n",
    "- Loss value is used to optimize the weights of the neurons in the network.\n",
    "- After every 5000 steps the loss value is printed in the console.\n",
    "\n",
    "As you can see just in 1 epoch by the final step the model was working with a miniscule loss of 0.022 i.e. the network output is extremely close to the actual output."
   ]
  },
  {
   "cell_type": "code",
   "execution_count": null,
   "metadata": {
    "colab": {},
    "colab_type": "code",
    "id": "B9_DjWmfWx1q"
   },
   "outputs": [],
   "source": [
    "def train(epoch,training_loader,model):\n",
    "    optimizer = get_optimizer(model)\n",
    "    model.train()\n",
    "\n",
    "    for _,data in enumerate(training_loader, 0):\n",
    "        ids = data['ids'].to(device, dtype = torch.long)\n",
    "        mask = data['mask'].to(device, dtype = torch.long)\n",
    "        token_type_ids = data['token_type_ids'].to(device, dtype = torch.long)\n",
    "        targets = data['targets'].to(device, dtype = torch.long)\n",
    "        optimizer.zero_grad()\n",
    "        outputs = model(ids, mask, token_type_ids)\n",
    "        #print(outputs)\n",
    "        #print(targets)\n",
    "        \n",
    "        loss = loss_fn(outputs, targets)\n",
    "        if _==0:\n",
    "           print(f'Epoch begin: {epoch}, Loss:  {loss.item()}')\n",
    "   \n",
    "        \n",
    "        #optimizer.zero_grad()\n",
    "        loss.backward()\n",
    "        optimizer.step()\n",
    "    print(f'Epoch end: {epoch}, Loss:  {loss.item()}')"
   ]
  },
  {
   "cell_type": "code",
   "execution_count": null,
   "metadata": {
    "colab": {},
    "colab_type": "code",
    "id": "e8QZwFskgw9m"
   },
   "outputs": [],
   "source": [
    "def train_ewc(epoch,training_loader,model,star_vars,precision_matrices):\n",
    "    #star_vars = star_vars.to(device)\n",
    "    #precision_matrices = precision_matrices.to(device)\n",
    "    optimizer = get_optimizer(model)\n",
    "    model.train()\n",
    "\n",
    "    for _,data in enumerate(training_loader, 0):\n",
    "        ids = data['ids'].to(device, dtype = torch.long)\n",
    "        mask = data['mask'].to(device, dtype = torch.long)\n",
    "        token_type_ids = data['token_type_ids'].to(device, dtype = torch.long)\n",
    "        targets = data['targets'].to(device, dtype = torch.long)\n",
    "        optimizer.zero_grad()\n",
    "        outputs = model(ids, mask, token_type_ids)\n",
    "        #print(outputs)\n",
    "        #print(targets)\n",
    "        \n",
    "        loss = loss_fn(outputs, targets,True,star_vars,precision_matrices)\n",
    "        if _==0:\n",
    "           print(f'Epoch begin: {epoch}, Loss:  {loss.item()}')\n",
    "   \n",
    "        \n",
    "        #optimizer.zero_grad()\n",
    "        loss.backward()\n",
    "        optimizer.step()\n",
    "    print(f'Epoch end: {epoch}, Loss:  {loss.item()}')"
   ]
  },
  {
   "cell_type": "code",
   "execution_count": null,
   "metadata": {
    "colab": {},
    "colab_type": "code",
    "id": "Z2WqDn6kEiVl"
   },
   "outputs": [],
   "source": [
    "import warnings\n",
    "warnings.filterwarnings('ignore')\n",
    "import logging\n",
    "logging.basicConfig(level=logging.ERROR)"
   ]
  },
  {
   "cell_type": "code",
   "execution_count": null,
   "metadata": {
    "colab": {
     "base_uri": "https://localhost:8080/",
     "height": 51
    },
    "colab_type": "code",
    "id": "D4Yl7gXHYSRU",
    "outputId": "896935c1-ae57-47f6-a717-e6b452b8cd6a"
   },
   "outputs": [],
   "source": [
    "for epoch in range(EPOCHS):\n",
    "    train(epoch,training_loader,model)"
   ]
  },
  {
   "cell_type": "markdown",
   "metadata": {
    "colab_type": "text",
    "id": "PHMMvWQRNFdQ"
   },
   "source": [
    "<a id='section06'></a>\n",
    "### Validating the Model\n",
    "\n",
    "During the validation stage we pass the unseen data(Testing Dataset) to the model. This step determines how good the model performs on the unseen data. \n",
    "\n",
    "This unseen data is the 20% of `train.csv` which was seperated during the Dataset creation stage. \n",
    "During the validation stage the weights of the model are not updated. Only the final output is compared to the actual value. This comparison is then used to calcuate the accuracy of the model. \n",
    "\n",
    "As defined above to get a measure of our models performance we are using the following metrics. \n",
    "- Accuracy Score\n",
    "- F1 Micro\n",
    "- F1 Macro\n",
    "\n",
    "We are getting amazing results for all these 3 categories just by training the model for 1 Epoch."
   ]
  },
  {
   "cell_type": "code",
   "execution_count": null,
   "metadata": {
    "colab": {},
    "colab_type": "code",
    "id": "nIEoUm4aQkyl"
   },
   "outputs": [],
   "source": [
    "def validation(testing_loader,model):\n",
    "    model.eval()\n",
    "    fin_targets=[]\n",
    "    fin_outputs=[]\n",
    "    with torch.no_grad():\n",
    "        for _, data in enumerate(testing_loader, 0):\n",
    "            ids = data['ids'].to(device, dtype = torch.long)\n",
    "            mask = data['mask'].to(device, dtype = torch.long)\n",
    "            token_type_ids = data['token_type_ids'].to(device, dtype = torch.long)\n",
    "            targets = data['targets'].to(device, dtype = torch.float)\n",
    "            outputs = model(ids, mask, token_type_ids)\n",
    "            fin_targets.extend(targets.cpu().detach().numpy().tolist())\n",
    "            fin_outputs.extend(torch.sigmoid(outputs).cpu().detach().numpy().tolist())\n",
    "    return fin_outputs, fin_targets"
   ]
  },
  {
   "cell_type": "code",
   "execution_count": null,
   "metadata": {
    "colab": {
     "base_uri": "https://localhost:8080/",
     "height": 86
    },
    "colab_type": "code",
    "id": "Ov1_3R_pAcMo",
    "outputId": "247c3bad-cbc2-4811-ed51-5b47224bf5fd"
   },
   "outputs": [],
   "source": [
    "\"\"\"\n",
    "for epoch in range(EPOCHS):\n",
    "    outputs, targets = validation(epoch)\n",
    "    outputs = np.array(outputs) >= 0.5\n",
    "    accuracy = metrics.accuracy_score(targets, outputs)\n",
    "    f1_score_micro = metrics.f1_score(targets, outputs, average='micro')\n",
    "    f1_score_macro = metrics.f1_score(targets, outputs, average='macro')\n",
    "    print(f\"Accuracy Score = {accuracy}\")\n",
    "    print(f\"F1 Score (Micro) = {f1_score_micro}\")\n",
    "    print(f\"F1 Score (Macro) = {f1_score_macro}\")\n",
    "\"\"\""
   ]
  },
  {
   "cell_type": "code",
   "execution_count": null,
   "metadata": {
    "colab": {},
    "colab_type": "code",
    "id": "JuIkAbO0FMtn"
   },
   "outputs": [],
   "source": [
    "out,tar = validation(testing_loader,model)"
   ]
  },
  {
   "cell_type": "code",
   "execution_count": null,
   "metadata": {
    "colab": {
     "base_uri": "https://localhost:8080/",
     "height": 34
    },
    "colab_type": "code",
    "id": "FR497K7UFQ-6",
    "outputId": "1aa85a06-d4dc-46e8-e5d2-26acf57ef4cd"
   },
   "outputs": [],
   "source": [
    "from sklearn.metrics import accuracy_score\n",
    "accuracy_score(np.argmax(out,axis = 1),tar)"
   ]
  },
  {
   "cell_type": "code",
   "execution_count": null,
   "metadata": {
    "colab": {
     "base_uri": "https://localhost:8080/",
     "height": 34
    },
    "colab_type": "code",
    "id": "mSGUDADhzMZV",
    "outputId": "28eb65a1-9ade-4200-91ba-21509b2f54ec"
   },
   "outputs": [],
   "source": [
    "from google.colab import drive\n",
    "drive.mount(\"/content/drive\")\n",
    "!cp '/content/drive/My Drive/IMDB/IMDB Dataset.csv.zip' 'IMDB.zip'\n",
    "\n"
   ]
  },
  {
   "cell_type": "code",
   "execution_count": null,
   "metadata": {
    "colab": {
     "base_uri": "https://localhost:8080/",
     "height": 51
    },
    "colab_type": "code",
    "id": "gScni42q1ryK",
    "outputId": "a2e37795-815d-4742-8301-b2b5a9984033"
   },
   "outputs": [],
   "source": [
    "!unzip IMDB.zip"
   ]
  },
  {
   "cell_type": "code",
   "execution_count": null,
   "metadata": {
    "colab": {
     "base_uri": "https://localhost:8080/",
     "height": 51
    },
    "colab_type": "code",
    "id": "Ikrn3D_n2JDw",
    "outputId": "cb51cb78-2bab-4e26-941d-9b2234f41360"
   },
   "outputs": [],
   "source": []
  },
  {
   "cell_type": "code",
   "execution_count": null,
   "metadata": {
    "colab": {},
    "colab_type": "code",
    "id": "iLsPcORgzMot"
   },
   "outputs": [],
   "source": [
    "df = pd.read_csv('IMDB Dataset.csv')\n",
    "df = df.head(5000)\n",
    "\n",
    "from sklearn.model_selection import train_test_split\n",
    "train_imdb, test_imdb = train_test_split(df, test_size=0.15,random_state = 42,shuffle = True)"
   ]
  },
  {
   "cell_type": "code",
   "execution_count": null,
   "metadata": {
    "colab": {},
    "colab_type": "code",
    "id": "GGwHx0K3zMxw"
   },
   "outputs": [],
   "source": [
    "def get_data(a):\n",
    "  b = list(a['sentiment'])\n",
    "  lab = []\n",
    "  \n",
    "  for i in b:\n",
    "    if i=='positive':\n",
    "        lab.append(1)\n",
    "    elif i=='negative':\n",
    "        lab.append(0)\n",
    "    \n",
    "  sentence = list(a['review'])\n",
    " \n",
    "  raw_data_train = {'sentence': sentence, \n",
    "              \n",
    "          'label': lab}\n",
    "  df = pd.DataFrame(raw_data_train, columns = ['sentence','label'])\n",
    "  return df"
   ]
  },
  {
   "cell_type": "code",
   "execution_count": null,
   "metadata": {
    "colab": {},
    "colab_type": "code",
    "id": "ZojTgBu8zM7m"
   },
   "outputs": [],
   "source": [
    "train_imdb = get_data(train_imdb)\n",
    "test_imdb = get_data(test_imdb)"
   ]
  },
  {
   "cell_type": "code",
   "execution_count": null,
   "metadata": {
    "colab": {
     "base_uri": "https://localhost:8080/",
     "height": 419
    },
    "colab_type": "code",
    "id": "gd3tCSrE3yOS",
    "outputId": "66b49d60-7311-4ba2-d8df-64c6b064e600"
   },
   "outputs": [],
   "source": [
    "train_imdb"
   ]
  },
  {
   "cell_type": "code",
   "execution_count": null,
   "metadata": {
    "colab": {},
    "colab_type": "code",
    "id": "Cf0LWJ-73zeg"
   },
   "outputs": [],
   "source": [
    "class CustomDatasetIMDB(Dataset):\n",
    "\n",
    "    def __init__(self, dataframe, tokenizer, max_len):\n",
    "        self.tokenizer = tokenizer\n",
    "        self.data = dataframe\n",
    "        self.sentence = dataframe.sentence\n",
    "        \n",
    "        self.targets = self.data.label\n",
    "        self.max_len = max_len\n",
    "\n",
    "    def __len__(self):\n",
    "        return len(self.sentence)\n",
    "\n",
    "    def __getitem__(self, index):\n",
    "        sentence1 = str(self.sentence[index])\n",
    "        sentence1 = \" \".join(sentence1.split())\n",
    "        \n",
    "\n",
    "        inputs = self.tokenizer.encode_plus(\n",
    "            sentence1,\n",
    "            None,\n",
    "            add_special_tokens=True,\n",
    "            max_length=self.max_len,\n",
    "            pad_to_max_length=True,\n",
    "            return_token_type_ids=True\n",
    "        )\n",
    "        ids = inputs['input_ids']\n",
    "        mask = inputs['attention_mask']\n",
    "        token_type_ids = inputs[\"token_type_ids\"]\n",
    "\n",
    "\n",
    "        return {\n",
    "            'ids': torch.tensor(ids, dtype=torch.long),\n",
    "            'mask': torch.tensor(mask, dtype=torch.long),\n",
    "            'token_type_ids': torch.tensor(token_type_ids, dtype=torch.long),\n",
    "            'targets': torch.tensor(self.targets[index], dtype=torch.long)\n",
    "        }"
   ]
  },
  {
   "cell_type": "code",
   "execution_count": null,
   "metadata": {
    "colab": {},
    "colab_type": "code",
    "id": "Kg5d7orc5Fu-"
   },
   "outputs": [],
   "source": [
    "training_set_imdb = CustomDatasetIMDB(train_imdb, tokenizer, MAX_LEN)\n",
    "testing_set_imdb = CustomDatasetIMDB(test_imdb, tokenizer, MAX_LEN)\n",
    "train_params = {'batch_size': TRAIN_BATCH_SIZE,\n",
    "                'shuffle': True,\n",
    "                'num_workers': 0\n",
    "                }\n",
    "\n",
    "test_params = {'batch_size': VALID_BATCH_SIZE,\n",
    "                'shuffle': True,\n",
    "                'num_workers': 0\n",
    "                }\n",
    "\n",
    "training_loader_imdb = DataLoader(training_set_imdb, **train_params)\n",
    "testing_loader_imdb = DataLoader(testing_set_imdb, **test_params)"
   ]
  },
  {
   "cell_type": "code",
   "execution_count": null,
   "metadata": {
    "colab": {
     "base_uri": "https://localhost:8080/",
     "height": 68
    },
    "colab_type": "code",
    "id": "WPWZu8xiRe-1",
    "outputId": "62e75df4-1121-4d14-b092-620c1bd62a90"
   },
   "outputs": [],
   "source": [
    "!ls"
   ]
  },
  {
   "cell_type": "code",
   "execution_count": null,
   "metadata": {
    "colab": {
     "base_uri": "https://localhost:8080/",
     "height": 1000
    },
    "colab_type": "code",
    "id": "2TccGzTc5jVb",
    "outputId": "36b858aa-8674-4bd9-aff0-69f978eb3191"
   },
   "outputs": [],
   "source": [
    "model_imdb = BERTClass(2,save_and_get(model,'nli7'))\n",
    "model_imdb.to(device)"
   ]
  },
  {
   "cell_type": "code",
   "execution_count": null,
   "metadata": {
    "colab": {},
    "colab_type": "code",
    "id": "3a9mu3oNDM94"
   },
   "outputs": [],
   "source": []
  },
  {
   "cell_type": "code",
   "execution_count": null,
   "metadata": {
    "colab": {
     "base_uri": "https://localhost:8080/",
     "height": 51
    },
    "colab_type": "code",
    "id": "hpreoXJJ54E2",
    "outputId": "4b2527d1-0575-45fc-c0a1-c7db45487312"
   },
   "outputs": [],
   "source": [
    "for epoch in range(EPOCHS):\n",
    "    train(epoch,training_loader_imdb,model_imdb)"
   ]
  },
  {
   "cell_type": "code",
   "execution_count": null,
   "metadata": {
    "colab": {
     "base_uri": "https://localhost:8080/",
     "height": 34
    },
    "colab_type": "code",
    "id": "MSV5vGc16JsI",
    "outputId": "9b17455a-eb86-4a8e-f307-5ca197cd3be1"
   },
   "outputs": [],
   "source": [
    "out,tar = validation(testing_loader_imdb,model_imdb)\n",
    "accuracy_score(np.argmax(out,axis = 1),tar)"
   ]
  },
  {
   "cell_type": "code",
   "execution_count": null,
   "metadata": {
    "colab": {
     "base_uri": "https://localhost:8080/",
     "height": 1000
    },
    "colab_type": "code",
    "id": "CvAOGRsT7glC",
    "outputId": "ca4797a1-3af6-4211-9480-315a905d1e15"
   },
   "outputs": [],
   "source": [
    "model_nli = BERTClass(4,save_and_get(model_imdb,'imdb7'))\n",
    "get_linear_weight(model,model_nli)\n",
    "model_nli.to(device)"
   ]
  },
  {
   "cell_type": "code",
   "execution_count": null,
   "metadata": {
    "colab": {
     "base_uri": "https://localhost:8080/",
     "height": 34
    },
    "colab_type": "code",
    "id": "18RhMPryEv-k",
    "outputId": "00b712b1-fc52-4e44-e988-dbecf9f185bf"
   },
   "outputs": [],
   "source": [
    "out,tar = validation(testing_loader,model_nli)\n",
    "accuracy_score(np.argmax(out,axis = 1),tar)"
   ]
  },
  {
   "cell_type": "code",
   "execution_count": null,
   "metadata": {
    "colab": {},
    "colab_type": "code",
    "id": "SYtYINCYNRoW"
   },
   "outputs": [],
   "source": [
    "def variable(t: torch.Tensor, use_cuda=True, **kwargs):\n",
    "    if torch.cuda.is_available() and use_cuda:\n",
    "        t = t.cuda()\n",
    "    return torch.autograd.Variable(t, **kwargs)"
   ]
  },
  {
   "cell_type": "code",
   "execution_count": null,
   "metadata": {
    "colab": {},
    "colab_type": "code",
    "id": "8fm07m38FPwe"
   },
   "outputs": [],
   "source": [
    "def compute_fisher(model,dataset):\n",
    "  params = {n: p for n, p in model.named_parameters() if p.requires_grad}\n",
    "  precision_matrices = {}\n",
    "  for n, p in deepcopy(params).items():\n",
    "      p.data.zero_()\n",
    "      precision_matrices[n] = variable(p.data)\n",
    "\n",
    "  model.eval()\n",
    "  for _,data in enumerate(dataset, 0):\n",
    "      ids = data['ids'].to(device, dtype = torch.long)\n",
    "      mask = data['mask'].to(device, dtype = torch.long)\n",
    "      token_type_ids = data['token_type_ids'].to(device, dtype = torch.long)\n",
    "      targets = data['targets'].to(device, dtype = torch.long)\n",
    "      \n",
    "      output = model(ids, mask, token_type_ids).view(1, -1)\n",
    "      #output = self.model(input).view(1, -1)\n",
    "      label = output.max(1)[1].view(-1)\n",
    "      loss = torch.nn.functional.nll_loss(torch.nn.functional.log_softmax(output, dim=1), label)\n",
    "      loss.backward()\n",
    "\n",
    "      for n, p in model.named_parameters():\n",
    "          precision_matrices[n].data += p.grad.data ** 2 / len(dataset)\n",
    "\n",
    "  precision_matrices = {n: p for n, p in precision_matrices.items()}\n",
    "  return precision_matrices"
   ]
  },
  {
   "cell_type": "code",
   "execution_count": null,
   "metadata": {
    "colab": {},
    "colab_type": "code",
    "id": "LWZkLufcOmIj"
   },
   "outputs": [],
   "source": [
    "m1 = compute_fisher(model_imdb,testing_loader_imdb)\n",
    "m2 = compute_fisher(model,testing_loader)"
   ]
  },
  {
   "cell_type": "code",
   "execution_count": null,
   "metadata": {
    "colab": {},
    "colab_type": "code",
    "id": "kS7uyk-vOsUM"
   },
   "outputs": [],
   "source": [
    "from copy import deepcopy"
   ]
  },
  {
   "cell_type": "code",
   "execution_count": null,
   "metadata": {
    "colab": {
     "base_uri": "https://localhost:8080/",
     "height": 1000
    },
    "colab_type": "code",
    "id": "n4bZxpokOulU",
    "outputId": "13f7a663-ffc7-46c9-a004-0dafe4e6c189"
   },
   "outputs": [],
   "source": [
    "m1#imdb"
   ]
  },
  {
   "cell_type": "code",
   "execution_count": null,
   "metadata": {
    "colab": {
     "base_uri": "https://localhost:8080/",
     "height": 1000
    },
    "colab_type": "code",
    "id": "rdsppexTPUmb",
    "outputId": "fbe8df5d-58e3-4610-9c19-452e87fccc81"
   },
   "outputs": [],
   "source": [
    "m2#nli"
   ]
  },
  {
   "cell_type": "code",
   "execution_count": null,
   "metadata": {
    "colab": {
     "base_uri": "https://localhost:8080/",
     "height": 1000
    },
    "colab_type": "code",
    "id": "dBY8f8MWUO2T",
    "outputId": "f6f7d042-e617-424b-abde-b3f6f88e1533"
   },
   "outputs": [],
   "source": [
    "model_imdb = BERTClass(2,save_and_get(model,'nli7'))\n",
    "model_imdb.to(device)"
   ]
  },
  {
   "cell_type": "code",
   "execution_count": null,
   "metadata": {
    "colab": {},
    "colab_type": "code",
    "id": "zU1hswwIimid"
   },
   "outputs": [],
   "source": [
    "star_vars = {}\n",
    "for n, p in model.named_parameters():\n",
    "  star_vars[n] = p"
   ]
  },
  {
   "cell_type": "code",
   "execution_count": null,
   "metadata": {
    "colab": {
     "base_uri": "https://localhost:8080/",
     "height": 51
    },
    "colab_type": "code",
    "id": "WlM8syFXi766",
    "outputId": "85a7a27f-1056-4eab-c2ce-d980a1f01991"
   },
   "outputs": [],
   "source": [
    "for epoch in range(EPOCHS):\n",
    "    train_ewc(epoch,training_loader_imdb,model_imdb,star_vars,m2)"
   ]
  },
  {
   "cell_type": "code",
   "execution_count": null,
   "metadata": {
    "colab": {
     "base_uri": "https://localhost:8080/",
     "height": 34
    },
    "colab_type": "code",
    "id": "u8VAgEerjS0t",
    "outputId": "bf60f926-8f73-46af-a8d6-2b2a6eb26f8e"
   },
   "outputs": [],
   "source": [
    "out,tar = validation(testing_loader_imdb,model_imdb)\n",
    "accuracy_score(np.argmax(out,axis = 1),tar)"
   ]
  },
  {
   "cell_type": "code",
   "execution_count": null,
   "metadata": {
    "colab": {
     "base_uri": "https://localhost:8080/",
     "height": 1000
    },
    "colab_type": "code",
    "id": "t62PxjnNj5k9",
    "outputId": "05835d97-7ab7-4fde-89cf-11f832a3a751"
   },
   "outputs": [],
   "source": [
    "model_nli_ewc = BERTClass(4,save_and_get(model_imdb,'imdb8'))\n",
    "get_linear_weight(model,model_nli_ewc)\n",
    "model_nli_ewc.to(device)"
   ]
  },
  {
   "cell_type": "code",
   "execution_count": null,
   "metadata": {
    "colab": {
     "base_uri": "https://localhost:8080/",
     "height": 34
    },
    "colab_type": "code",
    "id": "5bhPF-kMj5ij",
    "outputId": "0cdfb01b-089b-40e6-f1c7-6fed46061ca0"
   },
   "outputs": [],
   "source": [
    "out,tar = validation(testing_loader,model_nli_ewc)\n",
    "accuracy_score(np.argmax(out,axis = 1),tar)"
   ]
  },
  {
   "cell_type": "code",
   "execution_count": null,
   "metadata": {
    "colab": {},
    "colab_type": "code",
    "id": "Lrcv149Lj5dE"
   },
   "outputs": [],
   "source": []
  }
 ],
 "metadata": {
  "accelerator": "GPU",
  "colab": {
   "collapsed_sections": [],
   "name": "EWC-prelims.ipynb",
   "provenance": []
  },
  "kernelspec": {
   "display_name": "Python 3",
   "language": "python",
   "name": "python3"
  },
  "language_info": {
   "codemirror_mode": {
    "name": "ipython",
    "version": 3
   },
   "file_extension": ".py",
   "mimetype": "text/x-python",
   "name": "python",
   "nbconvert_exporter": "python",
   "pygments_lexer": "ipython3",
   "version": "3.6.4"
  }
 },
 "nbformat": 4,
 "nbformat_minor": 1
}
